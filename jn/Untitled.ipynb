{
 "cells": [
  {
   "cell_type": "code",
   "execution_count": 19,
   "metadata": {
    "ExecuteTime": {
     "end_time": "2018-07-26T08:24:35.635350Z",
     "start_time": "2018-07-26T08:24:34.157745Z"
    }
   },
   "outputs": [],
   "source": [
    "import numpy as np\n",
    "import pandas as pd\n",
    "import gc\n",
    "import os\n",
    "from multiprocessing import Pool, cpu_count\n",
    "NTHREAD = cpu_count()\n",
    "from sklearn.preprocessing import LabelEncoder\n",
    "from matplotlib import pyplot as plt\n",
    "import utils"
   ]
  },
  {
   "cell_type": "code",
   "execution_count": 3,
   "metadata": {
    "ExecuteTime": {
     "end_time": "2018-07-26T07:48:59.666546Z",
     "start_time": "2018-07-26T07:48:40.119983Z"
    }
   },
   "outputs": [
    {
     "name": "stderr",
     "output_type": "stream",
     "text": [
      "100%|██████████| 20/20 [00:16<00:00,  1.20it/s]\n"
     ]
    }
   ],
   "source": [
    "bure = utils.read_pickles('../data/bureau')"
   ]
  },
  {
   "cell_type": "code",
   "execution_count": 5,
   "metadata": {
    "ExecuteTime": {
     "end_time": "2018-07-26T07:50:12.074905Z",
     "start_time": "2018-07-26T07:50:12.072312Z"
    }
   },
   "outputs": [],
   "source": [
    "KEY = 'SK_ID_CURR'\n"
   ]
  },
  {
   "cell_type": "code",
   "execution_count": 6,
   "metadata": {
    "ExecuteTime": {
     "end_time": "2018-07-26T07:50:21.480951Z",
     "start_time": "2018-07-26T07:50:12.239301Z"
    }
   },
   "outputs": [],
   "source": [
    "# latest\n",
    "bure_l = bure.sort_values([KEY, 'DAYS_CREDIT'], ascending=[True, False]).drop_duplicates(KEY, keep='first').reset_index(drop=True)\n",
    "\n",
    "# old\n",
    "bure_o = bure.sort_values([KEY, 'DAYS_CREDIT'], ascending=[True, False]).drop_duplicates(KEY, keep='last').reset_index(drop=True)\n"
   ]
  },
  {
   "cell_type": "code",
   "execution_count": 8,
   "metadata": {
    "ExecuteTime": {
     "end_time": "2018-07-26T07:51:35.006207Z",
     "start_time": "2018-07-26T07:51:26.163578Z"
    }
   },
   "outputs": [],
   "source": [
    "prev = pd.read_csv('../input/previous_application.csv.zip')"
   ]
  },
  {
   "cell_type": "code",
   "execution_count": 9,
   "metadata": {
    "ExecuteTime": {
     "end_time": "2018-07-26T07:52:17.804894Z",
     "start_time": "2018-07-26T07:52:12.662434Z"
    }
   },
   "outputs": [],
   "source": [
    "# latest\n",
    "prev_l = prev.sort_values([KEY, 'DAYS_DECISION'], ascending=[True, False]).drop_duplicates(KEY, keep='first').reset_index(drop=True)\n",
    "\n",
    "# old\n",
    "prev_o = prev.sort_values([KEY, 'DAYS_DECISION'], ascending=[True, False]).drop_duplicates(KEY, keep='last').reset_index(drop=True)\n"
   ]
  },
  {
   "cell_type": "code",
   "execution_count": 10,
   "metadata": {
    "ExecuteTime": {
     "end_time": "2018-07-26T07:53:44.743952Z",
     "start_time": "2018-07-26T07:53:44.399837Z"
    }
   },
   "outputs": [
    {
     "data": {
      "text/plain": [
       "0.006070449436402703"
      ]
     },
     "execution_count": 10,
     "metadata": {},
     "output_type": "execute_result"
    }
   ],
   "source": [
    "bure_l.SK_ID_BUREAU.corr(bure_l.DAYS_CREDIT)"
   ]
  },
  {
   "cell_type": "code",
   "execution_count": 11,
   "metadata": {
    "ExecuteTime": {
     "end_time": "2018-07-26T07:54:13.351412Z",
     "start_time": "2018-07-26T07:54:13.341929Z"
    }
   },
   "outputs": [
    {
     "data": {
      "text/plain": [
       "0.018281102711500463"
      ]
     },
     "execution_count": 11,
     "metadata": {},
     "output_type": "execute_result"
    }
   ],
   "source": [
    "bure_o.SK_ID_BUREAU.corr(bure_o.DAYS_CREDIT)"
   ]
  },
  {
   "cell_type": "code",
   "execution_count": 12,
   "metadata": {
    "ExecuteTime": {
     "end_time": "2018-07-26T07:56:20.210883Z",
     "start_time": "2018-07-26T07:56:20.200025Z"
    }
   },
   "outputs": [
    {
     "data": {
      "text/plain": [
       "0.017310678804571242"
      ]
     },
     "execution_count": 12,
     "metadata": {},
     "output_type": "execute_result"
    }
   ],
   "source": [
    "prev_l.SK_ID_PREV.corr(prev_l.DAYS_DECISION)"
   ]
  },
  {
   "cell_type": "code",
   "execution_count": 13,
   "metadata": {
    "ExecuteTime": {
     "end_time": "2018-07-26T07:56:32.258158Z",
     "start_time": "2018-07-26T07:56:32.247441Z"
    }
   },
   "outputs": [
    {
     "data": {
      "text/plain": [
       "0.0001569920371727724"
      ]
     },
     "execution_count": 13,
     "metadata": {},
     "output_type": "execute_result"
    }
   ],
   "source": [
    "prev_o.SK_ID_PREV.corr(prev_o.DAYS_DECISION)"
   ]
  },
  {
   "cell_type": "code",
   "execution_count": 14,
   "metadata": {
    "ExecuteTime": {
     "end_time": "2018-07-26T08:21:36.251524Z",
     "start_time": "2018-07-26T08:21:27.908889Z"
    }
   },
   "outputs": [
    {
     "name": "stderr",
     "output_type": "stream",
     "text": [
      "100%|██████████| 20/20 [00:05<00:00,  3.57it/s]\n",
      "100%|██████████| 20/20 [00:01<00:00, 11.84it/s]\n"
     ]
    }
   ],
   "source": [
    "train = utils.load_train()\n",
    "test = utils.load_test()"
   ]
  },
  {
   "cell_type": "code",
   "execution_count": 15,
   "metadata": {
    "ExecuteTime": {
     "end_time": "2018-07-26T08:21:59.550825Z",
     "start_time": "2018-07-26T08:21:59.500147Z"
    }
   },
   "outputs": [
    {
     "data": {
      "text/plain": [
       "count    307511.000000\n",
       "mean     278180.518577\n",
       "std      102790.175348\n",
       "min      100002.000000\n",
       "25%      189145.500000\n",
       "50%      278202.000000\n",
       "75%      367142.500000\n",
       "max      456255.000000\n",
       "Name: SK_ID_CURR, dtype: float64"
      ]
     },
     "execution_count": 15,
     "metadata": {},
     "output_type": "execute_result"
    }
   ],
   "source": [
    "train.SK_ID_CURR.describe()"
   ]
  },
  {
   "cell_type": "code",
   "execution_count": 16,
   "metadata": {
    "ExecuteTime": {
     "end_time": "2018-07-26T08:22:06.569212Z",
     "start_time": "2018-07-26T08:22:06.560363Z"
    }
   },
   "outputs": [
    {
     "data": {
      "text/plain": [
       "count     48744.000000\n",
       "mean     277796.676350\n",
       "std      103169.547296\n",
       "min      100001.000000\n",
       "25%      188557.750000\n",
       "50%      277549.000000\n",
       "75%      367555.500000\n",
       "max      456250.000000\n",
       "Name: SK_ID_CURR, dtype: float64"
      ]
     },
     "execution_count": 16,
     "metadata": {},
     "output_type": "execute_result"
    }
   ],
   "source": [
    "test.SK_ID_CURR.describe()"
   ]
  },
  {
   "cell_type": "code",
   "execution_count": 18,
   "metadata": {
    "ExecuteTime": {
     "end_time": "2018-07-26T08:23:58.702155Z",
     "start_time": "2018-07-26T08:23:57.664698Z"
    }
   },
   "outputs": [],
   "source": [
    "prev['data'] = 'train'\n",
    "prev.loc[prev.SK_ID_CURR.isin(test.SK_ID_CURR), 'data']='test'"
   ]
  },
  {
   "cell_type": "code",
   "execution_count": 24,
   "metadata": {
    "ExecuteTime": {
     "end_time": "2018-07-26T08:25:41.684060Z",
     "start_time": "2018-07-26T08:25:40.958508Z"
    }
   },
   "outputs": [
    {
     "data": {
      "image/png": "[encoded data removed]",
      "text/plain": [
       "<matplotlib.figure.Figure at 0x7fa4827092e8>"
      ]
     },
     "metadata": {},
     "output_type": "display_data"
    }
   ],
   "source": [
    "prev.groupby('data').SK_ID_PREV.plot(kind='hist', bins=100, alpha=0.6, legend=True); plt.show()"
   ]
  },
  {
   "cell_type": "code",
   "execution_count": 25,
   "metadata": {
    "ExecuteTime": {
     "end_time": "2018-07-26T08:26:59.903917Z",
     "start_time": "2018-07-26T08:26:59.663129Z"
    }
   },
   "outputs": [],
   "source": [
    "bure['data'] = 'train'\n",
    "bure.loc[bure.SK_ID_CURR.isin(test.SK_ID_CURR), 'data']='test'"
   ]
  },
  {
   "cell_type": "code",
   "execution_count": 27,
   "metadata": {
    "ExecuteTime": {
     "end_time": "2018-07-26T08:27:26.973100Z",
     "start_time": "2018-07-26T08:27:26.111833Z"
    }
   },
   "outputs": [
    {
     "data": {
      "image/png": "[encoded data removed]",
      "text/plain": [
       "<matplotlib.figure.Figure at 0x7fa401ca4908>"
      ]
     },
     "metadata": {},
     "output_type": "display_data"
    }
   ],
   "source": [
    "bure.groupby('data').SK_ID_BUREAU.plot(kind='hist', bins=100, alpha=0.6, legend=True); plt.show()"
   ]
  },
  {
   "cell_type": "code",
   "execution_count": 28,
   "metadata": {
    "ExecuteTime": {
     "end_time": "2018-07-26T08:36:33.305764Z",
     "start_time": "2018-07-26T08:35:39.504085Z"
    }
   },
   "outputs": [
    {
     "data": {
      "image/png": "[encoded data removed]",
      "text/plain": [
       "<matplotlib.figure.Figure at 0x7fa4972e37b8>"
      ]
     },
     "metadata": {},
     "output_type": "display_data"
    }
   ],
   "source": [
    "bure.groupby('data').SK_ID_BUREAU.plot(kind='kde', alpha=0.6, legend=True); plt.show()"
   ]
  },
  {
   "cell_type": "code",
   "execution_count": 29,
   "metadata": {
    "ExecuteTime": {
     "end_time": "2018-07-26T09:01:11.990443Z",
     "start_time": "2018-07-26T09:01:02.136863Z"
    }
   },
   "outputs": [
    {
     "data": {
      "image/png": "[encoded data removed]",
      "text/plain": [
       "<matplotlib.figure.Figure at 0x7fa4824a82e8>"
      ]
     },
     "metadata": {},
     "output_type": "display_data"
    },
    {
     "data": {
      "image/png": "[encoded data removed]",
      "text/plain": [
       "<matplotlib.figure.Figure at 0x7fa482772da0>"
      ]
     },
     "metadata": {},
     "output_type": "display_data"
    }
   ],
   "source": [
    "\n",
    "bure_l['data'] = 'train'\n",
    "bure_l.loc[bure_l.SK_ID_CURR.isin(test.SK_ID_CURR), 'data']='test'\n",
    "\n",
    "bure_l.groupby('data').SK_ID_BUREAU.plot(kind='hist', bins=100, alpha=0.6, legend=True); plt.show()\n",
    "\n",
    "bure_l.groupby('data').SK_ID_BUREAU.plot(kind='kde', alpha=0.6, legend=True); plt.show()"
   ]
  },
  {
   "cell_type": "code",
   "execution_count": null,
   "metadata": {},
   "outputs": [],
   "source": []
  }
 ],
 "metadata": {
  "kernelspec": {
   "display_name": "Python 3",
   "language": "python",
   "name": "python3"
  },
  "language_info": {
   "codemirror_mode": {
    "name": "ipython",
    "version": 3
   },
   "file_extension": ".py",
   "mimetype": "text/x-python",
   "name": "python",
   "nbconvert_exporter": "python",
   "pygments_lexer": "ipython3",
   "version": "3.6.4"
  }
 },
 "nbformat": 4,
 "nbformat_minor": 2
}
