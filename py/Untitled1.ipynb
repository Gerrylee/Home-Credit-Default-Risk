{
 "cells": [
  {
   "cell_type": "code",
   "execution_count": 1,
   "metadata": {},
   "outputs": [
    {
     "data": {
      "text/plain": [
       "['../data/POS_CASH_balance',\n",
       " '../data/bureau',\n",
       " '../data/bureau_balance',\n",
       " '../data/credit_card_balance',\n",
       " '../data/installments_payments',\n",
       " '../data/label',\n",
       " '../data/previous_application',\n",
       " '../data/sub.p',\n",
       " '../data/test',\n",
       " '../data/train']"
      ]
     },
     "execution_count": 1,
     "metadata": {},
     "output_type": "execute_result"
    }
   ],
   "source": [
    "from glob import glob\n",
    "import utils\n",
    "sorted(glob('../data/*'))"
   ]
  },
  {
   "cell_type": "code",
   "execution_count": null,
   "metadata": {
    "collapsed": true
   },
   "outputs": [],
   "source": [
    "def sample(filepath):\n",
    "    df = utils.read_pickles('../data/bureau')\n",
    "    ids = df.SK_ID_CURR.unique()"
   ]
  }
 ],
 "metadata": {
  "kernelspec": {
   "display_name": "Python 3",
   "language": "python",
   "name": "python3"
  },
  "language_info": {
   "codemirror_mode": {
    "name": "ipython",
    "version": 3
   },
   "file_extension": ".py",
   "mimetype": "text/x-python",
   "name": "python",
   "nbconvert_exporter": "python",
   "pygments_lexer": "ipython3",
   "version": "3.6.3"
  }
 },
 "nbformat": 4,
 "nbformat_minor": 2
}
