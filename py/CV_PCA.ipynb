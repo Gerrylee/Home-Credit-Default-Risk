{
 "cells": [
  {
   "cell_type": "code",
   "execution_count": 1,
   "metadata": {
    "collapsed": true
   },
   "outputs": [],
   "source": [
    "import numpy as np\n",
    "import pandas as pd\n",
    "import sys\n",
    "sys.path.append('/home/kazuki_onodera/Python')\n",
    "import lgbmextension as ex\n",
    "import lightgbm as lgb\n",
    "from sklearn.decomposition import PCA\n",
    "from sklearn.preprocessing import StandardScaler\n",
    "import gc\n",
    "import EDA\n",
    "import utils"
   ]
  },
  {
   "cell_type": "code",
   "execution_count": 2,
   "metadata": {
    "collapsed": true
   },
   "outputs": [],
   "source": [
    "SEED = 71"
   ]
  },
  {
   "cell_type": "code",
   "execution_count": 3,
   "metadata": {},
   "outputs": [
    {
     "name": "stderr",
     "output_type": "stream",
     "text": [
      "100%|██████████| 20/20 [00:03<00:00,  6.65it/s]\n",
      "100%|██████████| 20/20 [00:03<00:00,  5.19it/s]\n",
      "100%|██████████| 20/20 [00:18<00:00,  1.09it/s]\n",
      "100%|██████████| 20/20 [00:07<00:00,  2.75it/s]\n",
      "100%|██████████| 20/20 [00:08<00:00,  2.31it/s]\n",
      "100%|██████████| 20/20 [00:00<00:00, 41.57it/s]\n"
     ]
    },
    {
     "data": {
      "text/plain": [
       "(307511, 2625)"
      ]
     },
     "execution_count": 3,
     "metadata": {},
     "output_type": "execute_result"
    }
   ],
   "source": [
    "X = pd.concat([utils.read_pickles('../data/101_train'), \n",
    "               utils.read_pickles('../data/102_train'), \n",
    "               utils.read_pickles('../data/103_train'), \n",
    "               utils.read_pickles('../data/104_train'), \n",
    "               utils.read_pickles('../data/105_train')], axis=1)\n",
    "y = utils.read_pickles('../data/label').TARGET\n",
    "X.shape"
   ]
  },
  {
   "cell_type": "code",
   "execution_count": 4,
   "metadata": {
    "collapsed": true
   },
   "outputs": [],
   "source": [
    "param = {\n",
    "         'objective': 'binary',\n",
    "         'metric': 'auc',\n",
    "         'learning_rate': 0.05,\n",
    "         'max_depth': -1,\n",
    "         'num_leaves': 127,\n",
    "         'max_bin': 100,\n",
    "         'colsample_bytree': 0.5,\n",
    "         'subsample': 0.5,\n",
    "         'nthread': 64,\n",
    "         'bagging_freq': 1,\n",
    "         \n",
    "         'seed': SEED\n",
    "         }\n",
    "\n",
    "\n",
    "categorical_feature = ['NAME_CONTRACT_TYPE',\n",
    "                     'CODE_GENDER',\n",
    "                     'FLAG_OWN_CAR',\n",
    "                     'FLAG_OWN_REALTY',\n",
    "                     'NAME_TYPE_SUITE',\n",
    "                     'NAME_INCOME_TYPE',\n",
    "                     'NAME_EDUCATION_TYPE',\n",
    "                     'NAME_FAMILY_STATUS',\n",
    "                     'NAME_HOUSING_TYPE',\n",
    "                     'OCCUPATION_TYPE',\n",
    "                     'WEEKDAY_APPR_PROCESS_START',\n",
    "                     'ORGANIZATION_TYPE',\n",
    "                     'FONDKAPREMONT_MODE',\n",
    "                     'HOUSETYPE_MODE',\n",
    "                     'WALLSMATERIAL_MODE',\n",
    "                     'EMERGENCYSTATE_MODE']\n"
   ]
  },
  {
   "cell_type": "markdown",
   "metadata": {},
   "source": [
    "# CV ( benchmark )"
   ]
  },
  {
   "cell_type": "code",
   "execution_count": 5,
   "metadata": {
    "collapsed": true
   },
   "outputs": [],
   "source": [
    "dtrain = lgb.Dataset(X, y, categorical_feature=categorical_feature)\n"
   ]
  },
  {
   "cell_type": "code",
   "execution_count": 6,
   "metadata": {},
   "outputs": [
    {
     "name": "stdout",
     "output_type": "stream",
     "text": [
      "[10]\tcv_agg's auc: 0.740779 + 0.0016119\n",
      "[20]\tcv_agg's auc: 0.746883 + 0.00202812\n",
      "[30]\tcv_agg's auc: 0.751679 + 0.00221784\n",
      "[40]\tcv_agg's auc: 0.756304 + 0.00200631\n",
      "[50]\tcv_agg's auc: 0.75964 + 0.00210692\n",
      "[60]\tcv_agg's auc: 0.762509 + 0.00232942\n",
      "[70]\tcv_agg's auc: 0.764883 + 0.00244744\n",
      "[80]\tcv_agg's auc: 0.766723 + 0.00265349\n",
      "[90]\tcv_agg's auc: 0.768107 + 0.00289381\n",
      "[100]\tcv_agg's auc: 0.769507 + 0.00249896\n",
      "[110]\tcv_agg's auc: 0.77081 + 0.00258605\n",
      "[120]\tcv_agg's auc: 0.771975 + 0.00263665\n",
      "[130]\tcv_agg's auc: 0.77297 + 0.0025366\n",
      "[140]\tcv_agg's auc: 0.773796 + 0.00253775\n",
      "[150]\tcv_agg's auc: 0.77417 + 0.00255804\n",
      "[160]\tcv_agg's auc: 0.774633 + 0.00269693\n",
      "[170]\tcv_agg's auc: 0.774921 + 0.00269006\n",
      "[180]\tcv_agg's auc: 0.775134 + 0.00260927\n",
      "[190]\tcv_agg's auc: 0.775415 + 0.00267445\n",
      "[200]\tcv_agg's auc: 0.775457 + 0.00275487\n",
      "[210]\tcv_agg's auc: 0.775645 + 0.00271504\n",
      "[220]\tcv_agg's auc: 0.77562 + 0.00292146\n",
      "[230]\tcv_agg's auc: 0.775855 + 0.00282503\n",
      "[240]\tcv_agg's auc: 0.775864 + 0.00283696\n",
      "[250]\tcv_agg's auc: 0.775801 + 0.00273054\n",
      "[260]\tcv_agg's auc: 0.775827 + 0.00269535\n",
      "[270]\tcv_agg's auc: 0.775807 + 0.00253675\n",
      "[280]\tcv_agg's auc: 0.775723 + 0.00257991\n"
     ]
    }
   ],
   "source": [
    "ret = lgb.cv(param, dtrain, 9999, nfold=5,\n",
    "             early_stopping_rounds=50, verbose_eval=10,\n",
    "             seed=SEED)\n"
   ]
  },
  {
   "cell_type": "markdown",
   "metadata": {},
   "source": [
    "# CV ( fillna() & inf )"
   ]
  },
  {
   "cell_type": "code",
   "execution_count": 7,
   "metadata": {
    "collapsed": true
   },
   "outputs": [],
   "source": [
    "tmp = X.isnull().sum()\n",
    "col = tmp[tmp>0].index\n",
    "for c in col:\n",
    "    X[c] = X[c].fillna(X[c].min()-1)"
   ]
  },
  {
   "cell_type": "code",
   "execution_count": 8,
   "metadata": {},
   "outputs": [
    {
     "data": {
      "text/plain": [
       "0"
      ]
     },
     "execution_count": 8,
     "metadata": {},
     "output_type": "execute_result"
    }
   ],
   "source": [
    "tmp = X.isnull().sum()\n",
    "tmp.sum()"
   ]
  },
  {
   "cell_type": "code",
   "execution_count": 30,
   "metadata": {},
   "outputs": [],
   "source": [
    "tmp = X.max()\n",
    "col = tmp[tmp==np.inf].index\n",
    "for c in col:\n",
    "    val = X[X[c]!=np.inf][c].max()+1\n",
    "    X[c] = X[c].replace(np.inf, val)"
   ]
  },
  {
   "cell_type": "code",
   "execution_count": 9,
   "metadata": {},
   "outputs": [
    {
     "data": {
      "text/plain": [
       "0"
      ]
     },
     "execution_count": 9,
     "metadata": {},
     "output_type": "execute_result"
    }
   ],
   "source": [
    "X.columns.duplicated().sum()"
   ]
  },
  {
   "cell_type": "code",
   "execution_count": 10,
   "metadata": {},
   "outputs": [
    {
     "data": {
      "text/plain": [
       "0"
      ]
     },
     "execution_count": 10,
     "metadata": {},
     "output_type": "execute_result"
    }
   ],
   "source": [
    "dtrain = lgb.Dataset(X, y, categorical_feature=categorical_feature)\n",
    "gc.collect()"
   ]
  },
  {
   "cell_type": "code",
   "execution_count": 11,
   "metadata": {},
   "outputs": [
    {
     "name": "stdout",
     "output_type": "stream",
     "text": [
      "[10]\tcv_agg's auc: 0.741981 + 0.00289933\n",
      "[20]\tcv_agg's auc: 0.74803 + 0.00214011\n",
      "[30]\tcv_agg's auc: 0.752263 + 0.00184612\n",
      "[40]\tcv_agg's auc: 0.757867 + 0.00242273\n",
      "[50]\tcv_agg's auc: 0.760872 + 0.00302879\n",
      "[60]\tcv_agg's auc: 0.763172 + 0.00264268\n",
      "[70]\tcv_agg's auc: 0.76528 + 0.0029898\n",
      "[80]\tcv_agg's auc: 0.767386 + 0.00287553\n",
      "[90]\tcv_agg's auc: 0.768754 + 0.00307957\n",
      "[100]\tcv_agg's auc: 0.769756 + 0.00294877\n",
      "[110]\tcv_agg's auc: 0.770717 + 0.0027935\n",
      "[120]\tcv_agg's auc: 0.771514 + 0.00256849\n",
      "[130]\tcv_agg's auc: 0.772207 + 0.00259748\n",
      "[140]\tcv_agg's auc: 0.773274 + 0.0024175\n",
      "[150]\tcv_agg's auc: 0.773882 + 0.00242034\n",
      "[160]\tcv_agg's auc: 0.774134 + 0.00249986\n",
      "[170]\tcv_agg's auc: 0.774595 + 0.0025373\n",
      "[180]\tcv_agg's auc: 0.774727 + 0.00249258\n",
      "[190]\tcv_agg's auc: 0.774923 + 0.00254973\n",
      "[200]\tcv_agg's auc: 0.775222 + 0.00266014\n",
      "[210]\tcv_agg's auc: 0.775266 + 0.0027051\n",
      "[220]\tcv_agg's auc: 0.775195 + 0.00271847\n",
      "[230]\tcv_agg's auc: 0.77545 + 0.00278377\n",
      "[240]\tcv_agg's auc: 0.775572 + 0.0027731\n",
      "[250]\tcv_agg's auc: 0.775522 + 0.00278855\n",
      "[260]\tcv_agg's auc: 0.775504 + 0.00263749\n",
      "[270]\tcv_agg's auc: 0.775518 + 0.00270577\n",
      "[280]\tcv_agg's auc: 0.775568 + 0.00270932\n",
      "[290]\tcv_agg's auc: 0.775597 + 0.00265136\n",
      "[300]\tcv_agg's auc: 0.775428 + 0.00271689\n",
      "[310]\tcv_agg's auc: 0.775455 + 0.00262451\n",
      "[320]\tcv_agg's auc: 0.775385 + 0.00264772\n",
      "[330]\tcv_agg's auc: 0.775323 + 0.00271466\n"
     ]
    }
   ],
   "source": [
    "ret2 = lgb.cv(param, dtrain, 9999, nfold=5,\n",
    "             early_stopping_rounds=50, verbose_eval=10,\n",
    "             seed=SEED)"
   ]
  },
  {
   "cell_type": "markdown",
   "metadata": {
    "collapsed": true
   },
   "source": [
    "# CV ( PCA )"
   ]
  },
  {
   "cell_type": "code",
   "execution_count": 31,
   "metadata": {},
   "outputs": [
    {
     "data": {
      "text/plain": [
       "1000"
      ]
     },
     "execution_count": 31,
     "metadata": {},
     "output_type": "execute_result"
    }
   ],
   "source": [
    "pca = PCA(n_components=1500)\n",
    "dtrain = lgb.Dataset(pca.fit_transform(X), y, \n",
    "                     categorical_feature=categorical_feature)\n",
    "gc.collect()"
   ]
  },
  {
   "cell_type": "code",
   "execution_count": 36,
   "metadata": {
    "collapsed": true
   },
   "outputs": [],
   "source": [
    "pca = PCA(n_components=1500)"
   ]
  },
  {
   "cell_type": "code",
   "execution_count": 38,
   "metadata": {
    "collapsed": true
   },
   "outputs": [],
   "source": [
    "X_cat = X[categorical_feature]\n",
    "X_num = pca.fit_transform(X.drop(categorical_feature, axis=1))"
   ]
  },
  {
   "cell_type": "code",
   "execution_count": 47,
   "metadata": {},
   "outputs": [
    {
     "data": {
      "text/plain": [
       "246"
      ]
     },
     "execution_count": 47,
     "metadata": {},
     "output_type": "execute_result"
    }
   ],
   "source": [
    "gc.collect()"
   ]
  },
  {
   "cell_type": "code",
   "execution_count": 43,
   "metadata": {},
   "outputs": [
    {
     "data": {
      "text/html": [
       "<div>\n",
       "<style scoped>\n",
       "    .dataframe tbody tr th:only-of-type {\n",
       "        vertical-align: middle;\n",
       "    }\n",
       "\n",
       "    .dataframe tbody tr th {\n",
       "        vertical-align: top;\n",
       "    }\n",
       "\n",
       "    .dataframe thead th {\n",
       "        text-align: right;\n",
       "    }\n",
       "</style>\n",
       "<table border=\"1\" class=\"dataframe\">\n",
       "  <thead>\n",
       "    <tr style=\"text-align: right;\">\n",
       "      <th></th>\n",
       "      <th>0</th>\n",
       "      <th>1</th>\n",
       "      <th>2</th>\n",
       "      <th>3</th>\n",
       "      <th>4</th>\n",
       "      <th>5</th>\n",
       "      <th>6</th>\n",
       "      <th>7</th>\n",
       "      <th>8</th>\n",
       "      <th>9</th>\n",
       "      <th>...</th>\n",
       "      <th>1490</th>\n",
       "      <th>1491</th>\n",
       "      <th>1492</th>\n",
       "      <th>1493</th>\n",
       "      <th>1494</th>\n",
       "      <th>1495</th>\n",
       "      <th>1496</th>\n",
       "      <th>1497</th>\n",
       "      <th>1498</th>\n",
       "      <th>1499</th>\n",
       "    </tr>\n",
       "  </thead>\n",
       "  <tbody>\n",
       "    <tr>\n",
       "      <th>0</th>\n",
       "      <td>-1.852692e+06</td>\n",
       "      <td>-3.068010e+06</td>\n",
       "      <td>9.386097e+05</td>\n",
       "      <td>5.818899e+04</td>\n",
       "      <td>1.733445e+06</td>\n",
       "      <td>3.168378e+05</td>\n",
       "      <td>6.519920e+05</td>\n",
       "      <td>179439.037624</td>\n",
       "      <td>257033.685546</td>\n",
       "      <td>17193.081365</td>\n",
       "      <td>...</td>\n",
       "      <td>0.044971</td>\n",
       "      <td>-0.040323</td>\n",
       "      <td>-0.032767</td>\n",
       "      <td>-0.033414</td>\n",
       "      <td>-0.229243</td>\n",
       "      <td>-0.007199</td>\n",
       "      <td>-0.096890</td>\n",
       "      <td>0.051000</td>\n",
       "      <td>0.002443</td>\n",
       "      <td>0.312487</td>\n",
       "    </tr>\n",
       "    <tr>\n",
       "      <th>1</th>\n",
       "      <td>-8.549972e+05</td>\n",
       "      <td>-2.214985e+06</td>\n",
       "      <td>1.360000e+06</td>\n",
       "      <td>1.027540e+06</td>\n",
       "      <td>-3.136968e+06</td>\n",
       "      <td>-1.830957e+06</td>\n",
       "      <td>4.276632e+05</td>\n",
       "      <td>-872059.105195</td>\n",
       "      <td>865020.289589</td>\n",
       "      <td>579666.958081</td>\n",
       "      <td>...</td>\n",
       "      <td>0.134151</td>\n",
       "      <td>0.229581</td>\n",
       "      <td>-0.108799</td>\n",
       "      <td>-0.011706</td>\n",
       "      <td>0.116983</td>\n",
       "      <td>0.122535</td>\n",
       "      <td>-0.285338</td>\n",
       "      <td>-0.033055</td>\n",
       "      <td>0.054429</td>\n",
       "      <td>-0.016583</td>\n",
       "    </tr>\n",
       "    <tr>\n",
       "      <th>2</th>\n",
       "      <td>-4.105990e+06</td>\n",
       "      <td>-3.480454e+06</td>\n",
       "      <td>1.025091e+06</td>\n",
       "      <td>5.706122e+05</td>\n",
       "      <td>2.485979e+06</td>\n",
       "      <td>-1.363739e+05</td>\n",
       "      <td>2.373984e+05</td>\n",
       "      <td>170905.224228</td>\n",
       "      <td>-3670.388686</td>\n",
       "      <td>-123777.989023</td>\n",
       "      <td>...</td>\n",
       "      <td>-0.064362</td>\n",
       "      <td>0.174151</td>\n",
       "      <td>0.067130</td>\n",
       "      <td>0.095944</td>\n",
       "      <td>0.121032</td>\n",
       "      <td>0.065967</td>\n",
       "      <td>-0.077087</td>\n",
       "      <td>0.003527</td>\n",
       "      <td>0.047974</td>\n",
       "      <td>-0.195310</td>\n",
       "    </tr>\n",
       "    <tr>\n",
       "      <th>3</th>\n",
       "      <td>-1.241795e+07</td>\n",
       "      <td>1.446734e+07</td>\n",
       "      <td>-3.688725e+06</td>\n",
       "      <td>-1.912370e+06</td>\n",
       "      <td>-4.500337e+06</td>\n",
       "      <td>-2.697221e+05</td>\n",
       "      <td>-1.022706e+06</td>\n",
       "      <td>-73895.101934</td>\n",
       "      <td>44319.251285</td>\n",
       "      <td>-341696.446474</td>\n",
       "      <td>...</td>\n",
       "      <td>0.062503</td>\n",
       "      <td>-0.107708</td>\n",
       "      <td>0.160168</td>\n",
       "      <td>0.215140</td>\n",
       "      <td>-0.055967</td>\n",
       "      <td>0.221178</td>\n",
       "      <td>-0.268846</td>\n",
       "      <td>0.139714</td>\n",
       "      <td>-0.325760</td>\n",
       "      <td>-0.313922</td>\n",
       "    </tr>\n",
       "    <tr>\n",
       "      <th>4</th>\n",
       "      <td>-4.002438e+06</td>\n",
       "      <td>-3.501565e+06</td>\n",
       "      <td>1.014233e+06</td>\n",
       "      <td>6.190330e+05</td>\n",
       "      <td>-7.612544e+04</td>\n",
       "      <td>-7.412476e+05</td>\n",
       "      <td>1.494064e+05</td>\n",
       "      <td>89785.005627</td>\n",
       "      <td>56501.901096</td>\n",
       "      <td>-158270.266849</td>\n",
       "      <td>...</td>\n",
       "      <td>-0.162115</td>\n",
       "      <td>0.081174</td>\n",
       "      <td>-0.495526</td>\n",
       "      <td>-0.262172</td>\n",
       "      <td>-0.061510</td>\n",
       "      <td>0.129055</td>\n",
       "      <td>0.273409</td>\n",
       "      <td>0.169429</td>\n",
       "      <td>-0.058866</td>\n",
       "      <td>-0.051540</td>\n",
       "    </tr>\n",
       "  </tbody>\n",
       "</table>\n",
       "<p>5 rows × 1500 columns</p>\n",
       "</div>"
      ],
      "text/plain": [
       "           0             1             2             3             4     \\\n",
       "0 -1.852692e+06 -3.068010e+06  9.386097e+05  5.818899e+04  1.733445e+06   \n",
       "1 -8.549972e+05 -2.214985e+06  1.360000e+06  1.027540e+06 -3.136968e+06   \n",
       "2 -4.105990e+06 -3.480454e+06  1.025091e+06  5.706122e+05  2.485979e+06   \n",
       "3 -1.241795e+07  1.446734e+07 -3.688725e+06 -1.912370e+06 -4.500337e+06   \n",
       "4 -4.002438e+06 -3.501565e+06  1.014233e+06  6.190330e+05 -7.612544e+04   \n",
       "\n",
       "           5             6              7              8              9     \\\n",
       "0  3.168378e+05  6.519920e+05  179439.037624  257033.685546   17193.081365   \n",
       "1 -1.830957e+06  4.276632e+05 -872059.105195  865020.289589  579666.958081   \n",
       "2 -1.363739e+05  2.373984e+05  170905.224228   -3670.388686 -123777.989023   \n",
       "3 -2.697221e+05 -1.022706e+06  -73895.101934   44319.251285 -341696.446474   \n",
       "4 -7.412476e+05  1.494064e+05   89785.005627   56501.901096 -158270.266849   \n",
       "\n",
       "     ...         1490      1491      1492      1493      1494      1495  \\\n",
       "0    ...     0.044971 -0.040323 -0.032767 -0.033414 -0.229243 -0.007199   \n",
       "1    ...     0.134151  0.229581 -0.108799 -0.011706  0.116983  0.122535   \n",
       "2    ...    -0.064362  0.174151  0.067130  0.095944  0.121032  0.065967   \n",
       "3    ...     0.062503 -0.107708  0.160168  0.215140 -0.055967  0.221178   \n",
       "4    ...    -0.162115  0.081174 -0.495526 -0.262172 -0.061510  0.129055   \n",
       "\n",
       "       1496      1497      1498      1499  \n",
       "0 -0.096890  0.051000  0.002443  0.312487  \n",
       "1 -0.285338 -0.033055  0.054429 -0.016583  \n",
       "2 -0.077087  0.003527  0.047974 -0.195310  \n",
       "3 -0.268846  0.139714 -0.325760 -0.313922  \n",
       "4  0.273409  0.169429 -0.058866 -0.051540  \n",
       "\n",
       "[5 rows x 1500 columns]"
      ]
     },
     "execution_count": 43,
     "metadata": {},
     "output_type": "execute_result"
    }
   ],
   "source": [
    "pd.DataFrame(X_num).head()"
   ]
  },
  {
   "cell_type": "code",
   "execution_count": 44,
   "metadata": {},
   "outputs": [
    {
     "data": {
      "text/plain": [
       "282"
      ]
     },
     "execution_count": 44,
     "metadata": {},
     "output_type": "execute_result"
    }
   ],
   "source": [
    "dtrain = lgb.Dataset(pd.concat([X_cat, pd.DataFrame(X_num)], axis=1), y, \n",
    "                     categorical_feature=categorical_feature)\n",
    "gc.collect()"
   ]
  },
  {
   "cell_type": "code",
   "execution_count": null,
   "metadata": {
    "collapsed": true
   },
   "outputs": [],
   "source": []
  },
  {
   "cell_type": "code",
   "execution_count": null,
   "metadata": {
    "collapsed": true
   },
   "outputs": [],
   "source": []
  },
  {
   "cell_type": "code",
   "execution_count": null,
   "metadata": {
    "collapsed": true
   },
   "outputs": [],
   "source": []
  },
  {
   "cell_type": "code",
   "execution_count": 46,
   "metadata": {},
   "outputs": [
    {
     "name": "stdout",
     "output_type": "stream",
     "text": [
      "[10]\tcv_agg's auc: 0.668081 + 0.00301386\n",
      "[20]\tcv_agg's auc: 0.679545 + 0.00338714\n",
      "[30]\tcv_agg's auc: 0.686735 + 0.0027056\n",
      "[40]\tcv_agg's auc: 0.692475 + 0.00254803\n"
     ]
    },
    {
     "ename": "KeyboardInterrupt",
     "evalue": "",
     "output_type": "error",
     "traceback": [
      "\u001b[0;31m---------------------------------------------------------------------------\u001b[0m",
      "\u001b[0;31mKeyboardInterrupt\u001b[0m                         Traceback (most recent call last)",
      "\u001b[0;32m<ipython-input-46-0a8539f53d7d>\u001b[0m in \u001b[0;36m<module>\u001b[0;34m()\u001b[0m\n\u001b[1;32m      1\u001b[0m ret = lgb.cv(param, dtrain, 9999, nfold=5,\n\u001b[1;32m      2\u001b[0m              \u001b[0mearly_stopping_rounds\u001b[0m\u001b[0;34m=\u001b[0m\u001b[0;36m50\u001b[0m\u001b[0;34m,\u001b[0m \u001b[0mverbose_eval\u001b[0m\u001b[0;34m=\u001b[0m\u001b[0;36m10\u001b[0m\u001b[0;34m,\u001b[0m \u001b[0mcategorical_feature\u001b[0m\u001b[0;34m=\u001b[0m\u001b[0mcategorical_feature\u001b[0m\u001b[0;34m,\u001b[0m\u001b[0;34m\u001b[0m\u001b[0m\n\u001b[0;32m----> 3\u001b[0;31m              seed=SEED)\n\u001b[0m",
      "\u001b[0;32m~/anaconda3/lib/python3.6/site-packages/lightgbm/engine.py\u001b[0m in \u001b[0;36mcv\u001b[0;34m(params, train_set, num_boost_round, folds, nfold, stratified, shuffle, metrics, fobj, feval, init_model, feature_name, categorical_feature, early_stopping_rounds, fpreproc, verbose_eval, show_stdv, seed, callbacks)\u001b[0m\n\u001b[1;32m    445\u001b[0m                                     \u001b[0mend_iteration\u001b[0m\u001b[0;34m=\u001b[0m\u001b[0mnum_boost_round\u001b[0m\u001b[0;34m,\u001b[0m\u001b[0;34m\u001b[0m\u001b[0m\n\u001b[1;32m    446\u001b[0m                                     evaluation_result_list=None))\n\u001b[0;32m--> 447\u001b[0;31m         \u001b[0mcvfolds\u001b[0m\u001b[0;34m.\u001b[0m\u001b[0mupdate\u001b[0m\u001b[0;34m(\u001b[0m\u001b[0mfobj\u001b[0m\u001b[0;34m=\u001b[0m\u001b[0mfobj\u001b[0m\u001b[0;34m)\u001b[0m\u001b[0;34m\u001b[0m\u001b[0m\n\u001b[0m\u001b[1;32m    448\u001b[0m         \u001b[0mres\u001b[0m \u001b[0;34m=\u001b[0m \u001b[0m_agg_cv_result\u001b[0m\u001b[0;34m(\u001b[0m\u001b[0mcvfolds\u001b[0m\u001b[0;34m.\u001b[0m\u001b[0meval_valid\u001b[0m\u001b[0;34m(\u001b[0m\u001b[0mfeval\u001b[0m\u001b[0;34m)\u001b[0m\u001b[0;34m)\u001b[0m\u001b[0;34m\u001b[0m\u001b[0m\n\u001b[1;32m    449\u001b[0m         \u001b[0;32mfor\u001b[0m \u001b[0m_\u001b[0m\u001b[0;34m,\u001b[0m \u001b[0mkey\u001b[0m\u001b[0;34m,\u001b[0m \u001b[0mmean\u001b[0m\u001b[0;34m,\u001b[0m \u001b[0m_\u001b[0m\u001b[0;34m,\u001b[0m \u001b[0mstd\u001b[0m \u001b[0;32min\u001b[0m \u001b[0mres\u001b[0m\u001b[0;34m:\u001b[0m\u001b[0;34m\u001b[0m\u001b[0m\n",
      "\u001b[0;32m~/anaconda3/lib/python3.6/site-packages/lightgbm/engine.py\u001b[0m in \u001b[0;36mhandlerFunction\u001b[0;34m(*args, **kwargs)\u001b[0m\n\u001b[1;32m    244\u001b[0m             \u001b[0mret\u001b[0m \u001b[0;34m=\u001b[0m \u001b[0;34m[\u001b[0m\u001b[0;34m]\u001b[0m\u001b[0;34m\u001b[0m\u001b[0m\n\u001b[1;32m    245\u001b[0m             \u001b[0;32mfor\u001b[0m \u001b[0mbooster\u001b[0m \u001b[0;32min\u001b[0m \u001b[0mself\u001b[0m\u001b[0;34m.\u001b[0m\u001b[0mboosters\u001b[0m\u001b[0;34m:\u001b[0m\u001b[0;34m\u001b[0m\u001b[0m\n\u001b[0;32m--> 246\u001b[0;31m                 \u001b[0mret\u001b[0m\u001b[0;34m.\u001b[0m\u001b[0mappend\u001b[0m\u001b[0;34m(\u001b[0m\u001b[0mgetattr\u001b[0m\u001b[0;34m(\u001b[0m\u001b[0mbooster\u001b[0m\u001b[0;34m,\u001b[0m \u001b[0mname\u001b[0m\u001b[0;34m)\u001b[0m\u001b[0;34m(\u001b[0m\u001b[0;34m*\u001b[0m\u001b[0margs\u001b[0m\u001b[0;34m,\u001b[0m \u001b[0;34m**\u001b[0m\u001b[0mkwargs\u001b[0m\u001b[0;34m)\u001b[0m\u001b[0;34m)\u001b[0m\u001b[0;34m\u001b[0m\u001b[0m\n\u001b[0m\u001b[1;32m    247\u001b[0m             \u001b[0;32mreturn\u001b[0m \u001b[0mret\u001b[0m\u001b[0;34m\u001b[0m\u001b[0m\n\u001b[1;32m    248\u001b[0m         \u001b[0;32mreturn\u001b[0m \u001b[0mhandlerFunction\u001b[0m\u001b[0;34m\u001b[0m\u001b[0m\n",
      "\u001b[0;32m~/anaconda3/lib/python3.6/site-packages/lightgbm/basic.py\u001b[0m in \u001b[0;36mupdate\u001b[0;34m(self, train_set, fobj)\u001b[0m\n\u001b[1;32m   1520\u001b[0m             _safe_call(_LIB.LGBM_BoosterUpdateOneIter(\n\u001b[1;32m   1521\u001b[0m                 \u001b[0mself\u001b[0m\u001b[0;34m.\u001b[0m\u001b[0mhandle\u001b[0m\u001b[0;34m,\u001b[0m\u001b[0;34m\u001b[0m\u001b[0m\n\u001b[0;32m-> 1522\u001b[0;31m                 ctypes.byref(is_finished)))\n\u001b[0m\u001b[1;32m   1523\u001b[0m             \u001b[0mself\u001b[0m\u001b[0;34m.\u001b[0m\u001b[0m__is_predicted_cur_iter\u001b[0m \u001b[0;34m=\u001b[0m \u001b[0;34m[\u001b[0m\u001b[0;32mFalse\u001b[0m \u001b[0;32mfor\u001b[0m \u001b[0m_\u001b[0m \u001b[0;32min\u001b[0m \u001b[0mrange_\u001b[0m\u001b[0;34m(\u001b[0m\u001b[0mself\u001b[0m\u001b[0;34m.\u001b[0m\u001b[0m__num_dataset\u001b[0m\u001b[0;34m)\u001b[0m\u001b[0;34m]\u001b[0m\u001b[0;34m\u001b[0m\u001b[0m\n\u001b[1;32m   1524\u001b[0m             \u001b[0;32mreturn\u001b[0m \u001b[0mis_finished\u001b[0m\u001b[0;34m.\u001b[0m\u001b[0mvalue\u001b[0m \u001b[0;34m==\u001b[0m \u001b[0;36m1\u001b[0m\u001b[0;34m\u001b[0m\u001b[0m\n",
      "\u001b[0;31mKeyboardInterrupt\u001b[0m: "
     ]
    }
   ],
   "source": [
    "ret = lgb.cv(param, dtrain, 9999, nfold=5,\n",
    "             early_stopping_rounds=50, verbose_eval=10,\n",
    "             seed=SEED)"
   ]
  },
  {
   "cell_type": "markdown",
   "metadata": {},
   "source": [
    "# CV ( std scalar & PCA )"
   ]
  },
  {
   "cell_type": "code",
   "execution_count": 48,
   "metadata": {},
   "outputs": [],
   "source": [
    "sc = StandardScaler()\n",
    "pca = PCA(n_components=1500)"
   ]
  },
  {
   "cell_type": "code",
   "execution_count": 49,
   "metadata": {
    "collapsed": true
   },
   "outputs": [],
   "source": [
    "X_cat = X[categorical_feature]\n",
    "X_num = pca.fit_transform(sc.fit_transform(X.drop(categorical_feature, axis=1)))"
   ]
  },
  {
   "cell_type": "code",
   "execution_count": 50,
   "metadata": {},
   "outputs": [
    {
     "data": {
      "text/plain": [
       "7"
      ]
     },
     "execution_count": 50,
     "metadata": {},
     "output_type": "execute_result"
    }
   ],
   "source": [
    "dtrain = lgb.Dataset(pd.concat([X_cat, pd.DataFrame(X_num)], axis=1), y, \n",
    "                     categorical_feature=categorical_feature)\n",
    "gc.collect()"
   ]
  },
  {
   "cell_type": "code",
   "execution_count": 51,
   "metadata": {},
   "outputs": [
    {
     "name": "stdout",
     "output_type": "stream",
     "text": [
      "[10]\tcv_agg's auc: 0.67718 + 0.00113632\n",
      "[20]\tcv_agg's auc: 0.686624 + 0.00168406\n",
      "[30]\tcv_agg's auc: 0.693288 + 0.000892071\n",
      "[40]\tcv_agg's auc: 0.697641 + 0.00115443\n",
      "[50]\tcv_agg's auc: 0.702805 + 0.00142697\n",
      "[60]\tcv_agg's auc: 0.707738 + 0.00220384\n",
      "[70]\tcv_agg's auc: 0.711586 + 0.0021631\n",
      "[80]\tcv_agg's auc: 0.714801 + 0.0024262\n",
      "[90]\tcv_agg's auc: 0.717651 + 0.00221548\n",
      "[100]\tcv_agg's auc: 0.719779 + 0.00179951\n",
      "[110]\tcv_agg's auc: 0.722205 + 0.00142931\n",
      "[120]\tcv_agg's auc: 0.723679 + 0.00180647\n",
      "[130]\tcv_agg's auc: 0.7257 + 0.00183623\n",
      "[140]\tcv_agg's auc: 0.726584 + 0.0017682\n",
      "[150]\tcv_agg's auc: 0.727525 + 0.00190254\n",
      "[160]\tcv_agg's auc: 0.728643 + 0.00183327\n",
      "[170]\tcv_agg's auc: 0.729575 + 0.0019946\n",
      "[180]\tcv_agg's auc: 0.730297 + 0.00169207\n",
      "[190]\tcv_agg's auc: 0.730984 + 0.00189294\n",
      "[200]\tcv_agg's auc: 0.731643 + 0.00187303\n",
      "[210]\tcv_agg's auc: 0.732184 + 0.00214037\n",
      "[220]\tcv_agg's auc: 0.732674 + 0.00219697\n",
      "[230]\tcv_agg's auc: 0.733064 + 0.00224419\n",
      "[240]\tcv_agg's auc: 0.733226 + 0.00218655\n",
      "[250]\tcv_agg's auc: 0.73361 + 0.00243792\n",
      "[260]\tcv_agg's auc: 0.734112 + 0.00255296\n",
      "[270]\tcv_agg's auc: 0.734403 + 0.00252733\n",
      "[280]\tcv_agg's auc: 0.734957 + 0.00264079\n",
      "[290]\tcv_agg's auc: 0.735041 + 0.00259868\n",
      "[300]\tcv_agg's auc: 0.735368 + 0.002474\n",
      "[310]\tcv_agg's auc: 0.735495 + 0.00236044\n",
      "[320]\tcv_agg's auc: 0.735888 + 0.00251521\n",
      "[330]\tcv_agg's auc: 0.736119 + 0.00257711\n",
      "[340]\tcv_agg's auc: 0.736381 + 0.00244449\n",
      "[350]\tcv_agg's auc: 0.736562 + 0.00237029\n",
      "[360]\tcv_agg's auc: 0.736791 + 0.00231132\n",
      "[370]\tcv_agg's auc: 0.736836 + 0.00227746\n",
      "[380]\tcv_agg's auc: 0.736932 + 0.00233733\n",
      "[390]\tcv_agg's auc: 0.736988 + 0.00228108\n",
      "[400]\tcv_agg's auc: 0.737129 + 0.00224843\n",
      "[410]\tcv_agg's auc: 0.73729 + 0.00233304\n",
      "[420]\tcv_agg's auc: 0.737268 + 0.0024004\n",
      "[430]\tcv_agg's auc: 0.737392 + 0.00236491\n",
      "[440]\tcv_agg's auc: 0.737437 + 0.00229333\n",
      "[450]\tcv_agg's auc: 0.737426 + 0.00252661\n",
      "[460]\tcv_agg's auc: 0.737467 + 0.00262689\n",
      "[470]\tcv_agg's auc: 0.737391 + 0.0026448\n",
      "[480]\tcv_agg's auc: 0.737486 + 0.00259411\n",
      "[490]\tcv_agg's auc: 0.737255 + 0.00275306\n",
      "[500]\tcv_agg's auc: 0.737246 + 0.00275477\n",
      "[510]\tcv_agg's auc: 0.737241 + 0.0025151\n"
     ]
    }
   ],
   "source": [
    "ret = lgb.cv(param, dtrain, 9999, nfold=5,\n",
    "             early_stopping_rounds=50, verbose_eval=10,\n",
    "             seed=SEED)"
   ]
  },
  {
   "cell_type": "code",
   "execution_count": 52,
   "metadata": {},
   "outputs": [
    {
     "data": {
      "text/plain": [
       "43"
      ]
     },
     "execution_count": 52,
     "metadata": {},
     "output_type": "execute_result"
    }
   ],
   "source": [
    "gc.collect()"
   ]
  },
  {
   "cell_type": "code",
   "execution_count": null,
   "metadata": {
    "collapsed": true
   },
   "outputs": [],
   "source": []
  }
 ],
 "metadata": {
  "kernelspec": {
   "display_name": "Python 3",
   "language": "python",
   "name": "python3"
  },
  "language_info": {
   "codemirror_mode": {
    "name": "ipython",
    "version": 3
   },
   "file_extension": ".py",
   "mimetype": "text/x-python",
   "name": "python",
   "nbconvert_exporter": "python",
   "pygments_lexer": "ipython3",
   "version": "3.6.3"
  }
 },
 "nbformat": 4,
 "nbformat_minor": 2
}
