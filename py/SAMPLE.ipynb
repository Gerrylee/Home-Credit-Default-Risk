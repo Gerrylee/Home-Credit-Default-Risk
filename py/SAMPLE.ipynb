{
 "cells": [
  {
   "cell_type": "code",
   "execution_count": 2,
   "metadata": {},
   "outputs": [
    {
     "data": {
      "text/plain": [
       "['../data/POS_CASH_balance',\n",
       " '../data/bureau',\n",
       " '../data/bureau_balance',\n",
       " '../data/credit_card_balance',\n",
       " '../data/installments_payments',\n",
       " '../data/label',\n",
       " '../data/previous_application',\n",
       " '../data/sub.p',\n",
       " '../data/test',\n",
       " '../data/train']"
      ]
     },
     "execution_count": 2,
     "metadata": {},
     "output_type": "execute_result"
    }
   ],
   "source": [
    "from glob import glob\n",
    "import numpy as np\n",
    "import utils\n",
    "sorted(glob('../data/*'))"
   ]
  },
  {
   "cell_type": "code",
   "execution_count": 3,
   "metadata": {
    "collapsed": true
   },
   "outputs": [],
   "source": [
    "def sample(n=10):\n",
    "    df = utils.load_train()\n",
    "    ids = np.random.choice(df.SK_ID_CURR.unique(), size=n, replace=False)\n",
    "    df[df.SK_ID_CURR.isin(ids)].to_csv('sample_tr.csv', index=False)\n",
    "    \n",
    "    df = utils.read_pickles('../data/POS_CASH_balance')\n",
    "    df[df.SK_ID_CURR.isin(ids)].to_csv('sample_POS.csv', index=False)\n",
    "    \n",
    "    df = utils.read_pickles('../data/bureau')\n",
    "    df[df.SK_ID_CURR.isin(ids)].to_csv('sample_bure.csv', index=False)\n",
    "    \n",
    "    df = utils.read_pickles('../data/credit_card_balance')\n",
    "    df[df.SK_ID_CURR.isin(ids)].to_csv('sample_cre.csv', index=False)\n",
    "    \n",
    "    df = utils.read_pickles('../data/installments_payments')\n",
    "    df[df.SK_ID_CURR.isin(ids)].to_csv('sample_ins.csv', index=False)\n",
    "    \n",
    "    df = utils.read_pickles('../data/previous_application')\n",
    "    df[df.SK_ID_CURR.isin(ids)].to_csv('sample_prev.csv', index=False)\n",
    "    \n",
    "    return"
   ]
  },
  {
   "cell_type": "code",
   "execution_count": 4,
   "metadata": {},
   "outputs": [
    {
     "name": "stderr",
     "output_type": "stream",
     "text": [
      "100%|██████████| 20/20 [00:04<00:00,  4.41it/s]\n",
      "100%|██████████| 20/20 [00:09<00:00,  2.15it/s]\n",
      "100%|██████████| 20/20 [00:06<00:00,  2.93it/s]\n",
      "100%|██████████| 20/20 [00:08<00:00,  2.26it/s]\n",
      "100%|██████████| 20/20 [00:14<00:00,  1.34it/s]\n",
      "100%|██████████| 20/20 [00:11<00:00,  1.81it/s]\n"
     ]
    }
   ],
   "source": [
    "sample()"
   ]
  },
  {
   "cell_type": "code",
   "execution_count": null,
   "metadata": {
    "collapsed": true
   },
   "outputs": [],
   "source": []
  }
 ],
 "metadata": {
  "kernelspec": {
   "display_name": "Python 3",
   "language": "python",
   "name": "python3"
  },
  "language_info": {
   "codemirror_mode": {
    "name": "ipython",
    "version": 3
   },
   "file_extension": ".py",
   "mimetype": "text/x-python",
   "name": "python",
   "nbconvert_exporter": "python",
   "pygments_lexer": "ipython3",
   "version": "3.6.3"
  }
 },
 "nbformat": 4,
 "nbformat_minor": 2
}
